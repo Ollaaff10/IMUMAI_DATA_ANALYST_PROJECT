{
 "cells": [
  {
   "cell_type": "code",
   "execution_count": 1,
   "id": "ab44b537",
   "metadata": {},
   "outputs": [
    {
     "name": "stdout",
     "output_type": "stream",
     "text": [
      "Car Golf Dataset:\n",
      "   source_id                                              title  \\\n",
      "0  286354023  Volkswagen Golf -Black Weeks-Fahrzeug, täglich...   \n",
      "1  312826845  Volkswagen Golf Var. VII 2.0 TDI DSG GTD Sport...   \n",
      "2  311592214  Volkswagen Golf VII Sportsvan Van/Lounge 2.0 T...   \n",
      "3  312569111  Volkswagen Golf  Sportsvan 1.2 TSI Lounge AAC ...   \n",
      "4  299066532  Volkswagen Golf 7 Sportsvan Allstar 1.6 TDI BM...   \n",
      "\n",
      "        category        make model  power color  capacity  \\\n",
      "0     Estate Car  volkswagen  golf    123   NaN      1395   \n",
      "1     Estate Car  volkswagen  golf    181   NaN      1968   \n",
      "2         Saloon  volkswagen  golf    148   NaN      1968   \n",
      "3  Van / Minibus  volkswagen  golf    109   NaN      1197   \n",
      "4         Saloon  volkswagen  golf    109   NaN      1598   \n",
      "\n",
      "             transmission    fuel           construction_year  price_net  \\\n",
      "0          Manual gearbox  Petrol  2015-01-01 00:00:00.000000    10466.0   \n",
      "1  Automatic transmission  Diesel  2017-01-01 00:00:00.000000    19784.0   \n",
      "2  Automatic transmission  Diesel  2016-01-01 00:00:00.000000        NaN   \n",
      "3          Manual gearbox  Petrol  2015-01-01 00:00:00.000000        NaN   \n",
      "4          Manual gearbox  Diesel  2016-01-01 00:00:00.000000        NaN   \n",
      "\n",
      "   price_gross                       added  mileage  \\\n",
      "0        12140  2020-11-26 01:11:25.000000    76973   \n",
      "1        22950  2020-11-26 01:12:39.000000    91800   \n",
      "2        15920  2020-11-26 01:12:55.000000    92004   \n",
      "3        14900  2020-11-26 01:29:05.000000    56150   \n",
      "4        13450  2020-11-26 01:29:40.000000    88500   \n",
      "\n",
      "                                                 url  \n",
      "0  https://suchen.mobile.de/fahrzeuge/details.htm...  \n",
      "1  https://suchen.mobile.de/fahrzeuge/details.htm...  \n",
      "2  https://suchen.mobile.de/fahrzeuge/details.htm...  \n",
      "3  https://suchen.mobile.de/fahrzeuge/details.htm...  \n",
      "4  https://suchen.mobile.de/fahrzeuge/details.htm...   \n",
      "\n",
      "Car Golf Info Dataset:\n",
      "   id make                   model                            submodel  \\\n",
      "0  28   VW  GOLF (2008 - 2012)  VI    VW GOLF (2008 - 2012)  VI Cabrio   \n",
      "1  29   VW  GOLF (2008 - 2012)  VI  VW GOLF (2008 - 2012)  VI Hečbekas   \n",
      "2  30   VW  GOLF (2008 - 2012)  VI  VW GOLF (2008 - 2012)  VI Hečbekas   \n",
      "3  31   VW  GOLF (2008 - 2012)  VI  VW GOLF (2008 - 2012)  VI Hečbekas   \n",
      "4  32   VW  GOLF (2008 - 2012)  VI  VW GOLF (2008 - 2012)  VI Hečbekas   \n",
      "\n",
      "                       modification_key                     modification fuel  \\\n",
      "0  20552357-aff2-5384-afab-4619c87aa3c2                     Golf 2.0 TDI    D   \n",
      "1  6c829bae-42c8-5984-bfc0-820965aeb421    Golf 1.6 TDI DPF Trendline M5    D   \n",
      "2  42028b3d-a694-5936-a0fa-7507eae4be7a    Golf 1.6 TDI DPF Trendline M5    D   \n",
      "3  0be7d442-c4bd-5a70-8f90-2c1e1dcf09b3   Golf 1.6 TDI DPF BlueMotion M5    D   \n",
      "4  853c23c7-5ffe-5549-9bcc-059554c8c5d4  Golf 1.6 TDI DPF Comfortline M5    D   \n",
      "\n",
      "   door_count  capacity  power1  ...  construction_start  construction_end  \\\n",
      "0           2      1968     103  ...                2008              2013   \n",
      "1           5      1598      66  ...                2009              2013   \n",
      "2           5      1598      77  ...                2009              2013   \n",
      "3           5      1598      77  ...                2009              2013   \n",
      "4           5      1598      77  ...                2009              2013   \n",
      "\n",
      "                                                meta  final_submodel  \\\n",
      "0  {\"raw\":\"Golf 2.0 TDI\\nD\\n2\\n1968\\n 103 (140)\\n...             NaN   \n",
      "1  {\"raw\":\"Golf 1.6 TDI DPF Trendline M5\\nD\\n5\\n1...             NaN   \n",
      "2  {\"raw\":\"Golf 1.6 TDI DPF Trendline M5\\nD\\n5\\n1...             NaN   \n",
      "3  {\"raw\":\"Golf 1.6 TDI DPF BlueMotion M5\\nD\\n5\\n...             NaN   \n",
      "4  {\"raw\":\"Golf 1.6 TDI DPF Comfortline M5\\nD\\n5\\...             NaN   \n",
      "\n",
      "  parsed_model  parsed_engine_type parsed_engine_size      parsed_options  \\\n",
      "0         Golf                 TDI                2.0                 NaN   \n",
      "1         Golf                 TDI                1.6    DPF Trendline M5   \n",
      "2         Golf                 TDI                1.6    DPF Trendline M5   \n",
      "3         Golf                 TDI                1.6   DPF BlueMotion M5   \n",
      "4         Golf                 TDI                1.6  DPF Comfortline M5   \n",
      "\n",
      "      parsed_category parsed_transmission  \n",
      "0  Cabriolet/Roadster              manual  \n",
      "1           Small Car              manual  \n",
      "2           Small Car              manual  \n",
      "3           Small Car              manual  \n",
      "4           Small Car              manual  \n",
      "\n",
      "[5 rows x 22 columns]\n"
     ]
    }
   ],
   "source": [
    "\n",
    "\n",
    "# Importing required libraries\n",
    "import pandas as pd\n",
    "import re\n",
    "\n",
    "# file paths\n",
    "car_golf_dataset = pd.read_csv(r'D:\\Salman work folder\\ImumAi_Data_Analyst_Test\\car-golf-dataset.csv', delimiter=';')\n",
    "car_golf_info = pd.read_csv(r'D:\\Salman work folder\\ImumAi_Data_Analyst_Test\\car-golf-info.csv', delimiter=';')\n",
    "\n",
    "# Confirmation of the data loaded correctly\n",
    "print(\"Car Golf Dataset:\")\n",
    "print(car_golf_dataset.head(), \"\\n\")\n",
    "print(\"Car Golf Info Dataset:\")\n",
    "print(car_golf_info.head())\n"
   ]
  },
  {
   "cell_type": "code",
   "execution_count": 2,
   "id": "bc824fa3",
   "metadata": {},
   "outputs": [
    {
     "name": "stdout",
     "output_type": "stream",
     "text": [
      "\n",
      "Engine Type Extraction and Validation Summary:\n",
      "TSI       24999\n",
      "TDI       18481\n",
      "eTSI       5492\n",
      "R          4681\n",
      "GTI        3690\n",
      "GTD        1258\n",
      "e-Golf      696\n",
      "Name: engine_type_validated, dtype: int64\n"
     ]
    }
   ],
   "source": [
    "#Extraction and Validation of the Engine Type\n",
    "#This step extracts the engine type from the title column in car-golf-dataset and validates it against parsed_engine_type in car-golf-info.\n",
    "\n",
    "# Step 1: Extracting Accurate Engine Type\n",
    "def extract_engine_type(title, catalog_engine_types):\n",
    "    \"\"\"\n",
    "    Extract the engine type from the title based on catalog engine types.\n",
    "    \"\"\"\n",
    "    for engine_type in catalog_engine_types:\n",
    "        if re.search(rf\"\\b{engine_type}\\b\", title, re.IGNORECASE):\n",
    "            return engine_type\n",
    "    return None\n",
    "\n",
    "# Geting unique engine types from catalog\n",
    "catalog_engine_types = car_golf_info['parsed_engine_type'].dropna().unique()\n",
    "\n",
    "# Adding a new column for extracted engine type in car-golf-dataset\n",
    "car_golf_dataset['extracted_engine_type'] = car_golf_dataset['title'].apply(\n",
    "    lambda x: extract_engine_type(x, catalog_engine_types)\n",
    ")\n",
    "\n",
    "# Validating extracted engine types against catalog\n",
    "car_golf_dataset['engine_type_validated'] = car_golf_dataset['extracted_engine_type'].apply(\n",
    "    lambda x: x if x in catalog_engine_types else None\n",
    ")\n",
    "\n",
    "# Printing validation summary\n",
    "print(\"\\nEngine Type Extraction and Validation Summary:\")\n",
    "print(car_golf_dataset['engine_type_validated'].value_counts())\n",
    "\n"
   ]
  },
  {
   "cell_type": "code",
   "execution_count": 4,
   "id": "bdafd202",
   "metadata": {},
   "outputs": [
    {
     "name": "stdout",
     "output_type": "stream",
     "text": [
      "\n",
      "Category Correction Summary:\n",
      "Small Car             59421\n",
      "Cabriolet/Roadster    17449\n",
      "Name: corrected_category, dtype: int64\n"
     ]
    }
   ],
   "source": [
    "#Correction and Standardizing Category\n",
    "#This step matches category in car-golf-dataset to parsed_category from car-golf-info.\n",
    "# Step 2: Match and Assign of Accurate Category\n",
    "def match_category_from_catalog(row, catalog):\n",
    "    \"\"\"\n",
    "    Match and assign a category to a row based on catalog data.\n",
    "    \"\"\"\n",
    "    matches = catalog[\n",
    "        (catalog['parsed_model'].str.contains(row['model'], na=False, case=False)) &\n",
    "        (catalog['capacity'] == row['capacity'])\n",
    "    ]\n",
    "    if not matches.empty:\n",
    "        return matches.iloc[0]['parsed_category']\n",
    "    return None\n",
    "\n",
    "# Adding a new column for corrected categories\n",
    "car_golf_dataset['corrected_category'] = car_golf_dataset.apply(\n",
    "    lambda row: match_category_from_catalog(row, car_golf_info), axis=1\n",
    ")\n",
    "\n",
    "# Printing category correction summary\n",
    "print(\"\\nCategory Correction Summary:\")\n",
    "print(car_golf_dataset['corrected_category'].value_counts())\n"
   ]
  },
  {
   "cell_type": "code",
   "execution_count": 5,
   "id": "fe15991e",
   "metadata": {},
   "outputs": [
    {
     "name": "stdout",
     "output_type": "stream",
     "text": [
      "\n",
      "Missing Engine Type Rows:\n",
      "False    59297\n",
      "True     18447\n",
      "Name: engine_type_missing, dtype: int64\n",
      "\n",
      "Missing Category Rows:\n",
      "False    76870\n",
      "True       874\n",
      "Name: category_missing, dtype: int64\n"
     ]
    }
   ],
   "source": [
    "##Finalizing and Flagging Issues\n",
    "\n",
    "\n",
    "# Step 3: Replacing Original Columns and Flagging Missing Data\n",
    "car_golf_dataset['engine_type'] = car_golf_dataset['engine_type_validated']\n",
    "car_golf_dataset['category'] = car_golf_dataset['corrected_category']\n",
    "\n",
    "# Flagging rows with missing engine_type or category\n",
    "car_golf_dataset['engine_type_missing'] = car_golf_dataset['engine_type'].isnull()\n",
    "car_golf_dataset['category_missing'] = car_golf_dataset['category'].isnull()\n",
    "\n",
    "# Printing summary of missing data\n",
    "print(\"\\nMissing Engine Type Rows:\")\n",
    "print(car_golf_dataset['engine_type_missing'].value_counts())\n",
    "print(\"\\nMissing Category Rows:\")\n",
    "print(car_golf_dataset['category_missing'].value_counts())\n",
    "\n",
    "\n"
   ]
  },
  {
   "cell_type": "code",
   "execution_count": 6,
   "id": "9e5aaece",
   "metadata": {},
   "outputs": [
    {
     "name": "stdout",
     "output_type": "stream",
     "text": [
      "\n",
      "Cleaned dataset has been saved to 'cleaned_car_golf_dataset.csv'\n"
     ]
    }
   ],
   "source": [
    "#Saving Cleaned Dataset\n",
    "\n",
    "\n",
    "# Saving cleaned dataset to a new CSV file\n",
    "car_golf_dataset.to_csv(r'D:\\Salman work folder\\ImumAi_Data_Analyst_Test\\cleaned_car_golf_dataset.csv', index=False)\n",
    "\n",
    "print(\"\\nCleaned dataset has been saved to 'cleaned_car_golf_dataset.csv'\")\n"
   ]
  },
  {
   "cell_type": "code",
   "execution_count": null,
   "id": "f4366b88",
   "metadata": {},
   "outputs": [],
   "source": []
  }
 ],
 "metadata": {
  "kernelspec": {
   "display_name": "Python 3 (ipykernel)",
   "language": "python",
   "name": "python3"
  },
  "language_info": {
   "codemirror_mode": {
    "name": "ipython",
    "version": 3
   },
   "file_extension": ".py",
   "mimetype": "text/x-python",
   "name": "python",
   "nbconvert_exporter": "python",
   "pygments_lexer": "ipython3",
   "version": "3.11.4"
  }
 },
 "nbformat": 4,
 "nbformat_minor": 5
}
