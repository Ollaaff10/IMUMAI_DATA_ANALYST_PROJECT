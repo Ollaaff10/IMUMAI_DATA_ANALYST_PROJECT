{
 "cells": [
  {
   "cell_type": "code",
   "execution_count": 5,
   "id": "457bc5ee",
   "metadata": {},
   "outputs": [
    {
     "name": "stdout",
     "output_type": "stream",
     "text": [
      "Prepared Dataset Loaded:\n",
      "   source_id                                              title  \\\n",
      "0  286354023  Volkswagen Golf -Black Weeks-Fahrzeug, täglich...   \n",
      "1  312826845  Volkswagen Golf Var. VII 2.0 TDI DSG GTD Sport...   \n",
      "2  311592214  Volkswagen Golf VII Sportsvan Van/Lounge 2.0 T...   \n",
      "3  312569111  Volkswagen Golf  Sportsvan 1.2 TSI Lounge AAC ...   \n",
      "4  299066532  Volkswagen Golf 7 Sportsvan Allstar 1.6 TDI BM...   \n",
      "\n",
      "             category        make model  power color  capacity  \\\n",
      "0           Small Car  volkswagen  golf    123   NaN      1395   \n",
      "1  Cabriolet/Roadster  volkswagen  golf    181   NaN      1968   \n",
      "2  Cabriolet/Roadster  volkswagen  golf    148   NaN      1968   \n",
      "3           Small Car  volkswagen  golf    109   NaN      1197   \n",
      "4           Small Car  volkswagen  golf    109   NaN      1598   \n",
      "\n",
      "             transmission    fuel  ... price_gross  \\\n",
      "0          Manual gearbox  Petrol  ...       12140   \n",
      "1  Automatic transmission  Diesel  ...       22950   \n",
      "2  Automatic transmission  Diesel  ...       15920   \n",
      "3          Manual gearbox  Petrol  ...       14900   \n",
      "4          Manual gearbox  Diesel  ...       13450   \n",
      "\n",
      "                        added  mileage  \\\n",
      "0  2020-11-26 01:11:25.000000    76973   \n",
      "1  2020-11-26 01:12:39.000000    91800   \n",
      "2  2020-11-26 01:12:55.000000    92004   \n",
      "3  2020-11-26 01:29:05.000000    56150   \n",
      "4  2020-11-26 01:29:40.000000    88500   \n",
      "\n",
      "                                                 url  extracted_engine_type  \\\n",
      "0  https://suchen.mobile.de/fahrzeuge/details.htm...                    NaN   \n",
      "1  https://suchen.mobile.de/fahrzeuge/details.htm...                    TDI   \n",
      "2  https://suchen.mobile.de/fahrzeuge/details.htm...                    TDI   \n",
      "3  https://suchen.mobile.de/fahrzeuge/details.htm...                    TSI   \n",
      "4  https://suchen.mobile.de/fahrzeuge/details.htm...                    TDI   \n",
      "\n",
      "  engine_type_validated  corrected_category engine_type engine_type_missing  \\\n",
      "0                   NaN           Small Car         NaN                True   \n",
      "1                   TDI  Cabriolet/Roadster         TDI               False   \n",
      "2                   TDI  Cabriolet/Roadster         TDI               False   \n",
      "3                   TSI           Small Car         TSI               False   \n",
      "4                   TDI           Small Car         TDI               False   \n",
      "\n",
      "  category_missing  \n",
      "0            False  \n",
      "1            False  \n",
      "2            False  \n",
      "3            False  \n",
      "4            False  \n",
      "\n",
      "[5 rows x 22 columns]\n"
     ]
    }
   ],
   "source": [
    "\n",
    "import pandas as pd\n",
    "\n",
    "#File path \n",
    "prepared_dataset_path = r'D:\\Salman work folder\\ImumAi_Data_Analyst_Test\\cleaned_car_golf_dataset.csv'\n",
    "car_golf_prepared = pd.read_csv(prepared_dataset_path)\n",
    "\n",
    "# Previewing the dataset\n",
    "print(\"Prepared Dataset Loaded:\")\n",
    "print(car_golf_prepared.head())\n"
   ]
  },
  {
   "cell_type": "code",
   "execution_count": 6,
   "id": "39004b49",
   "metadata": {},
   "outputs": [
    {
     "name": "stdout",
     "output_type": "stream",
     "text": [
      "\n",
      "Suspicious Engine Type Rows Detected:\n",
      "                                                   title engine_type\n",
      "0      Volkswagen Golf -Black Weeks-Fahrzeug, täglich...         NaN\n",
      "5      Volkswagen Golf VII Sportsvan Comfortline 1.6T...         NaN\n",
      "13     Volkswagen Golf VII DSG HIGHLINE SPORT LED*NAV...         NaN\n",
      "20     Volkswagen Golf Bluetooth Navi Klima Einparkhilfe         NaN\n",
      "23     Volkswagen Golf VII Sportsvan DSG KLIMA Navi p...         NaN\n",
      "...                                                  ...         ...\n",
      "77721  Volkswagen Golf Ko. 1.5TSI IQ DRIVE Navi/ Sitz...         NaN\n",
      "77723  Volkswagen GOLF VII VARIANT COMFORTLINE 150PS ...         NaN\n",
      "77725  Volkswagen Golf VII 2,0TDI Variant Highline BM...         NaN\n",
      "77731  Volkswagen Golf VII Variant Highline Navi AHK ...         NaN\n",
      "77738  Volkswagen Golf VIII Active LED Navi ACC  Fern...         NaN\n",
      "\n",
      "[18447 rows x 2 columns]\n"
     ]
    }
   ],
   "source": [
    "#Identifying Suspicious Rows\n",
    "\n",
    "#Here are logical checks based on our data understanding:\n",
    "\n",
    "#Missing or Incorrect Engine Type\n",
    "#Rows where engine_type is missing or invalid (flagged during data preparation).\n",
    "\n",
    "# Detecting rows with missing engine type\n",
    "suspicious_engine_type = car_golf_prepared[car_golf_prepared['engine_type'].isnull()]\n",
    "\n",
    "print(\"\\nSuspicious Engine Type Rows Detected:\")\n",
    "print(suspicious_engine_type[['title', 'engine_type']])\n"
   ]
  },
  {
   "cell_type": "code",
   "execution_count": 7,
   "id": "8f293d77",
   "metadata": {},
   "outputs": [
    {
     "name": "stdout",
     "output_type": "stream",
     "text": [
      "\n",
      "Suspicious Category Rows Detected:\n",
      "                                                   title category\n",
      "144    Volkswagen Golf VIII Variant Style 2.0 TDI *Bu...      NaN\n",
      "168    Volkswagen Golf Plus 1.6 Euro 5 LIFE nur 39.65...      NaN\n",
      "191    Volkswagen Golf Var.1.4 TSI Allstar NAVI PDC G...      NaN\n",
      "334    Volkswagen Golf VII Sportsvan Highline 1,4 TSI...      NaN\n",
      "335    Volkswagen Golf 7 VII Sportsvan 2.0 TDI Highli...      NaN\n",
      "...                                                  ...      ...\n",
      "77126                 Volkswagen VOLKSWAGEN Golf 2.0 TDI      NaN\n",
      "77350  Volkswagen VOLKSWAGEN Golf 1.4 TSI 140 CV DSG ...      NaN\n",
      "77517   Volkswagen Golf GTI 7.5 GTI DSG TCR ACC - VIRTUA      NaN\n",
      "77621              Volkswagen Golf 2.0 TDI CUP *NAVI*PDC      NaN\n",
      "77727  Volkswagen Golf VIII Move 2.0 TDI DSG Bluetoot...      NaN\n",
      "\n",
      "[874 rows x 2 columns]\n"
     ]
    }
   ],
   "source": [
    "#Missing or Incorrect Category\n",
    "#Rows where category is missing (flagged during data preparation).\n",
    "\n",
    "# Detecting rows with missing category\n",
    "suspicious_category = car_golf_prepared[car_golf_prepared['category'].isnull()]\n",
    "\n",
    "print(\"\\nSuspicious Category Rows Detected:\")\n",
    "print(suspicious_category[['title', 'category']])\n",
    "\n"
   ]
  },
  {
   "cell_type": "code",
   "execution_count": 8,
   "id": "708ae772",
   "metadata": {},
   "outputs": [
    {
     "name": "stdout",
     "output_type": "stream",
     "text": [
      "\n",
      "Suspicious Transmission Rows Detected:\n",
      "                                                   title    transmission\n",
      "836    Volkswagen Golf 2.0 TDI DSG Klimatronic,Leder,...  Manual gearbox\n",
      "1196   Volkswagen Golf VII 1,2 TSI DSG Allstar (PDCpl...  Manual gearbox\n",
      "1260   Volkswagen Golf Variant VIII Life 2.0 TDI DSG ...  Manual gearbox\n",
      "2795   Volkswagen Golf Variant 2.0l TDI DSG PDC LED N...  Manual gearbox\n",
      "3306   Volkswagen Golf VIII 2.0 TSI DSG R 4Motion NAV...  Manual gearbox\n",
      "...                                                  ...             ...\n",
      "72080  Volkswagen Golf VIII EDITION 50 1.5 eTSI DSG K...  Manual gearbox\n",
      "76294  Volkswagen VOLKSWAGEN - Golf - 2.0 TSI DSG 5p....  Manual gearbox\n",
      "76739  Volkswagen Golf 1.5 eTSI Style DSG LED NAVI AH...  Manual gearbox\n",
      "77509    Volkswagen Golf 1.4 TGI DSG 5p. Business 4 Free  Manual gearbox\n",
      "77531  Volkswagen VOLKSWAGEN Golf Variant 1.6 TDI 115...  Manual gearbox\n",
      "\n",
      "[130 rows x 2 columns]\n"
     ]
    }
   ],
   "source": [
    "#Contradictions in Transmission\n",
    "#Rows where transmission contradicts title (e.g., Manual gearbox vs. \"DSG\" in title).\n",
    "\n",
    "# Detecting transmission contradictions\n",
    "suspicious_transmission = car_golf_prepared[\n",
    "    (car_golf_prepared['transmission'].str.contains(\"Manual\", na=False)) &\n",
    "    (car_golf_prepared['title'].str.contains(\"DSG\", na=False))\n",
    "]\n",
    "\n",
    "print(\"\\nSuspicious Transmission Rows Detected:\")\n",
    "print(suspicious_transmission[['title', 'transmission']])\n"
   ]
  },
  {
   "cell_type": "code",
   "execution_count": 9,
   "id": "13f873e7",
   "metadata": {},
   "outputs": [
    {
     "name": "stdout",
     "output_type": "stream",
     "text": [
      "\n",
      "Suspicious Fuel Rows Detected:\n",
      "                                                   title                 fuel\n",
      "2487   Volkswagen Golf Variant Life 1.5 eTSI (Mild-Hy...  Petrol, E10-enabled\n",
      "2626   Volkswagen Golf VIII Lim. Style eHybrid DSG~LE...               Petrol\n",
      "2915   Volkswagen Golf Variant 1.5 eTSI STYLE MildHyb...               Petrol\n",
      "3703                Volkswagen Golf VIII 1.4 eHybrid GTE               Petrol\n",
      "3871   Volkswagen Golf VIII 1.5 eTSI R-Line BlackStyl...               Petrol\n",
      "...                                                  ...                  ...\n",
      "68069  Volkswagen Golf VIII 1.5 eTSI Style Hybrid MAT...               Petrol\n",
      "70373  Volkswagen Golf GTE 1,5 l eHybrid DSG HUD LED ...               Petrol\n",
      "74818  Volkswagen Golf  GTE eHybrid Pan/Kam/Keyl/HUD/...               Petrol\n",
      "76903  Volkswagen Golf Style eHybrid IQ-Matrix/Kamera...               Petrol\n",
      "77337  Volkswagen Golf GTE eHybrid DSG AHK DCC Navi A...  Petrol, E10-enabled\n",
      "\n",
      "[64 rows x 2 columns]\n"
     ]
    }
   ],
   "source": [
    " #Contradictions in Fuel\n",
    "#Rows where fuel contradicts title (e.g., Petrol vs. \"Hybrid\" in title).\n",
    "\n",
    "# Detecting fuel contradictions\n",
    "suspicious_fuel = car_golf_prepared[\n",
    "    (car_golf_prepared['fuel'].str.contains(\"Petrol\", na=False)) &\n",
    "    (car_golf_prepared['title'].str.contains(\"Hybrid\", na=False))\n",
    "]\n",
    "\n",
    "print(\"\\nSuspicious Fuel Rows Detected:\")\n",
    "print(suspicious_fuel[['title', 'fuel']])\n"
   ]
  },
  {
   "cell_type": "code",
   "execution_count": 11,
   "id": "7187ba50",
   "metadata": {},
   "outputs": [
    {
     "name": "stdout",
     "output_type": "stream",
     "text": [
      "\n",
      "Rows with Missing Power but Mentioned in Title:\n",
      "                                                   title  power\n",
      "13841  Volkswagen Golf GTI 2,0 l TSI OPF 195 kW (265 ...      0\n",
      "\n",
      "Rows with Invalid Power Values:\n",
      "                                                   title  power\n",
      "719    Volkswagen VOLKSWAGEN Golf 5p 1.6 tdi highline...      0\n",
      "912    Volkswagen VOLKSWAGEN Golf sportsvan 2.0 tdi h...      0\n",
      "1021   Volkswagen Golf VIII 1,4  GTE eHybrid/IQ/PRO/A...     25\n",
      "2534   Volkswagen e-Golf 7.5 100 Kw LED/ECC/ACC/NAVI/...      0\n",
      "2562      Volkswagen Golf VIII 1.4TSI DSG Style +Plug in      0\n",
      "...                                                  ...    ...\n",
      "75346  Volkswagen Golf VII Lim R BMT 4Motion/Komplett...    503\n",
      "76460  Volkswagen Golf VII R 4M. 409 PS MEGA AUSSTA.*...    404\n",
      "77428  Volkswagen VOLKSWAGEN Golf 1.0 tsi evo life 11...      0\n",
      "77557  Volkswagen VOLKSWAGEN Golf 5p 1.5 tgi business...      0\n",
      "77558           Volkswagen VOLKSWAGEN E-golf 5p del 2019      0\n",
      "\n",
      "[463 rows x 2 columns]\n"
     ]
    }
   ],
   "source": [
    "#Invalid or Missing Power\n",
    "#Rows where power is missing but mentioned in title.\n",
    "#Rows where power does not match valid ranges.\n",
    "\n",
    "import re  # Import the regular expressions library\n",
    "\n",
    "# Detecting missing power but mentioned in title\n",
    "suspicious_missing_power = car_golf_prepared[\n",
    "    (car_golf_prepared['power'] == 0) & \n",
    "    (car_golf_prepared['title'].str.contains(r'\\d+\\s?PS', na=False, flags=re.IGNORECASE))\n",
    "]\n",
    "\n",
    "print(\"\\nRows with Missing Power but Mentioned in Title:\")\n",
    "print(suspicious_missing_power[['title', 'power']])\n",
    "\n",
    "# Define valid power ranges (adjust as needed)\n",
    "valid_power_range = range(50, 400)\n",
    "\n",
    "# Detect invalid power values\n",
    "suspicious_invalid_power = car_golf_prepared[~car_golf_prepared['power'].isin(valid_power_range)]\n",
    "\n",
    "print(\"\\nRows with Invalid Power Values:\")\n",
    "print(suspicious_invalid_power[['title', 'power']])\n",
    "\n"
   ]
  },
  {
   "cell_type": "code",
   "execution_count": 12,
   "id": "314de1b6",
   "metadata": {},
   "outputs": [
    {
     "name": "stdout",
     "output_type": "stream",
     "text": [
      "\n",
      "Total Suspicious Rows Detected: 19582\n",
      "\n",
      "Suspicious rows have been saved to 'suspicious_rows_combined.csv'\n"
     ]
    }
   ],
   "source": [
    "#Combining Suspicious Rows\n",
    "#We will combine all identified suspicious rows into a single file for manual review.\n",
    "\n",
    "# Combining all suspicious rows\n",
    "suspicious_rows = pd.concat([\n",
    "    suspicious_engine_type,\n",
    "    suspicious_category,\n",
    "    suspicious_transmission,\n",
    "    suspicious_fuel,\n",
    "    suspicious_missing_power,\n",
    "    suspicious_invalid_power\n",
    "]).drop_duplicates()\n",
    "\n",
    "print(f\"\\nTotal Suspicious Rows Detected: {len(suspicious_rows)}\")\n",
    "\n",
    "# Save suspicious rows to a file\n",
    "suspicious_rows.to_csv(r'D:\\Salman work folder\\ImamAi\\suspicious_rows_combined.csv', index=False)\n",
    "print(\"\\nSuspicious rows have been saved to 'suspicious_rows_combined.csv'\")\n",
    "\n"
   ]
  },
  {
   "cell_type": "code",
   "execution_count": 1,
   "id": "7fa9ff59",
   "metadata": {},
   "outputs": [],
   "source": [
    "import pandas as pd\n",
    "\n",
    "# Load the suspicious combined rows dataset\n",
    "suspicious_rows_path = r'D:\\Salman work folder\\ImamAi\\suspicious_rows_combined.csv'  # Update with your file path\n",
    "suspicious_rows = pd.read_csv(suspicious_rows_path)"
   ]
  },
  {
   "cell_type": "code",
   "execution_count": 2,
   "id": "ac7a0545",
   "metadata": {},
   "outputs": [],
   "source": [
    "##Step 1: Cleaning engine_type\n",
    "#Logic:\n",
    "#Infer engine_type from title using keywords (TDI, TSI, eTSI, etc.).\n",
    "#Use capacity as a secondary criterion when no clear engine type is mentioned.\n",
    "# Function to infer engine type\n",
    "def infer_engine_type(row):\n",
    "    if pd.isnull(row['engine_type']):\n",
    "        if 'TDI' in row['title']:\n",
    "            return 'TDI'\n",
    "        elif 'TSI' in row['title']:\n",
    "            return 'TSI'\n",
    "        elif 'eHybrid' in row['title'] or 'eTSI' in row['title']:\n",
    "            return 'eTSI'\n",
    "        elif 'GTD' in row['title']:\n",
    "            return 'GTD'\n",
    "        elif 'GTI' in row['title']:\n",
    "            return 'GTI'\n",
    "        elif 'R' in row['title']:\n",
    "            return 'R'\n",
    "        elif 'e-Golf' in row['title']:\n",
    "            return 'e-Golf'\n",
    "    return row['engine_type']\n",
    "\n",
    "# Applying the function to infer missing engine types\n",
    "suspicious_rows['engine_type'] = suspicious_rows.apply(infer_engine_type, axis=1)\n",
    "\n"
   ]
  },
  {
   "cell_type": "code",
   "execution_count": 3,
   "id": "c124dd06",
   "metadata": {},
   "outputs": [],
   "source": [
    "##Step 2: Cleaning category\n",
    "#Logic:Infer category from title using keywords (Variant, Sportsvan, etc.).Default to Small Car if no other category is evident.\n",
    "\n",
    "# Function to infer category\n",
    "def infer_category(row):\n",
    "    if pd.isnull(row['category']):\n",
    "        if 'Sportsvan' in row['title']:\n",
    "            return 'Cabriolet/Roadster'\n",
    "        elif 'Variant' in row['title']:\n",
    "            return 'Small Car'\n",
    "    return row['category']\n",
    "\n",
    "# ApplyIing the function to infer missing categories\n",
    "suspicious_rows['category'] = suspicious_rows.apply(infer_category, axis=1)\n"
   ]
  },
  {
   "cell_type": "code",
   "execution_count": 4,
   "id": "57fc2c61",
   "metadata": {},
   "outputs": [],
   "source": [
    "#Step 3: Resolving Contradictions in transmission\n",
    "#Logic:\n",
    "#If title mentions DSG, set transmission to Automatic transmission.\n",
    "\n",
    "# Function to resolve transmission contradictions\n",
    "def resolve_transmission(row):\n",
    "    if 'DSG' in row['title'] and 'Manual' in str(row['transmission']):\n",
    "        return 'Automatic transmission'\n",
    "    return row['transmission']\n",
    "\n",
    "# Applying the function to correct transmission contradictions\n",
    "suspicious_rows['transmission'] = suspicious_rows.apply(resolve_transmission, axis=1)\n"
   ]
  },
  {
   "cell_type": "code",
   "execution_count": 5,
   "id": "0f8a91f5",
   "metadata": {},
   "outputs": [],
   "source": [
    "#Step 4: Resolving Contradictions in fuel\n",
    "#Logic:If title mentions Hybrid, set fuel to Hybrid (petrol/electric).\n",
    "\n",
    "# Function to resolving fuel contradictions\n",
    "def resolve_fuel(row):\n",
    "    if 'Hybrid' in row['title'] and 'Petrol' in str(row['fuel']):\n",
    "        return 'Hybrid (petrol/electric)'\n",
    "    return row['fuel']\n",
    "\n",
    "# Apply the function to correct fuel contradictions\n",
    "suspicious_rows['fuel'] = suspicious_rows.apply(resolve_fuel, axis=1)\n",
    "\n"
   ]
  },
  {
   "cell_type": "code",
   "execution_count": 6,
   "id": "ba7fb6ef",
   "metadata": {},
   "outputs": [],
   "source": [
    "#Step 5: Cleaning power\n",
    "#Logic:\n",
    "#Infer power from title if mentioned.\n",
    "#Remove invalid power values outside the valid range (50–400 HP).\n",
    "\n",
    "import re\n",
    "\n",
    "# Function to infer power from title\n",
    "def infer_power(row):\n",
    "    if row['power'] == 0:\n",
    "        match = re.search(r'(\\d+)\\s?PS', row['title'])\n",
    "        if match:\n",
    "            return int(match.group(1))\n",
    "    return row['power']\n",
    "\n",
    "# Applying the function to infer missing power values\n",
    "suspicious_rows['power'] = suspicious_rows.apply(infer_power, axis=1)\n",
    "\n",
    "# Removing rows with invalid power values\n",
    "valid_power_range = range(50, 400)\n",
    "suspicious_rows = suspicious_rows[suspicious_rows['power'].isin(valid_power_range)]\n"
   ]
  },
  {
   "cell_type": "code",
   "execution_count": 7,
   "id": "f90d0892",
   "metadata": {},
   "outputs": [
    {
     "name": "stdout",
     "output_type": "stream",
     "text": [
      "Cleaned suspicious rows saved to D:\\Salman work folder\\ImamAi\\cleaned_suspicious_rows.csv\n"
     ]
    }
   ],
   "source": [
    "#Step 6: Saving Cleaned Suspicious Rows\n",
    "#After applying the cleaning logic, save the cleaned dataset for merging with the main dataset.\n",
    "\n",
    "# Save cleaned suspicious rows\n",
    "cleaned_suspicious_rows_path = r'D:\\Salman work folder\\ImumAi_Data_Analyst_Test\\cleaned_suspicious_rows.csv'  # Updated save path\n",
    "suspicious_rows.to_csv(cleaned_suspicious_rows_path, index=False)\n",
    "\n",
    "print(f\"Cleaned suspicious rows saved to {cleaned_suspicious_rows_path}\")\n",
    "\n"
   ]
  },
  {
   "cell_type": "code",
   "execution_count": 8,
   "id": "e9852203",
   "metadata": {},
   "outputs": [
    {
     "name": "stdout",
     "output_type": "stream",
     "text": [
      "Final cleaned dataset saved to D:\\Salman work folder\\ImamAi\\final_cleaned_car_golf_dataset.csv\n"
     ]
    }
   ],
   "source": [
    "import pandas as pd\n",
    "\n",
    "# Path to the prepared dataset\n",
    "prepared_dataset_path = r'D:\\Salman work folder\\ImamAi\\cleaned_car_golf_dataset.csv'\n",
    "car_golf_prepared = pd.read_csv(prepared_dataset_path)\n",
    "\n",
    "# Path to the cleaned suspicious rows\n",
    "cleaned_suspicious_rows_path = r'D:\\Salman work folder\\ImamAi\\cleaned_suspicious_rows.csv'\n",
    "suspicious_rows = pd.read_csv(cleaned_suspicious_rows_path)\n",
    "\n",
    "# Updating the prepared dataset with cleaned suspicious rows\n",
    "car_golf_prepared.update(suspicious_rows)\n",
    "\n",
    "# Saving the final cleaned dataset\n",
    "final_cleaned_dataset_path = r'D:\\Salman work folder\\ImumAi_Data_Analyst_Test\\final_cleaned_car_golf_dataset.csv'\n",
    "car_golf_prepared.to_csv(final_cleaned_dataset_path, index=False)\n",
    "\n",
    "print(f\"Final cleaned dataset saved to {final_cleaned_dataset_path}\")\n"
   ]
  },
  {
   "cell_type": "code",
   "execution_count": null,
   "id": "a60c65f1",
   "metadata": {},
   "outputs": [],
   "source": []
  }
 ],
 "metadata": {
  "kernelspec": {
   "display_name": "Python 3 (ipykernel)",
   "language": "python",
   "name": "python3"
  },
  "language_info": {
   "codemirror_mode": {
    "name": "ipython",
    "version": 3
   },
   "file_extension": ".py",
   "mimetype": "text/x-python",
   "name": "python",
   "nbconvert_exporter": "python",
   "pygments_lexer": "ipython3",
   "version": "3.11.4"
  }
 },
 "nbformat": 4,
 "nbformat_minor": 5
}
